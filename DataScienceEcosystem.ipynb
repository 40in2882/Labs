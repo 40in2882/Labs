{
 "cells": [
  {
   "cell_type": "markdown",
   "id": "b8d90fbb-4ba2-413e-98e4-df98eddc7106",
   "metadata": {},
   "source": [
    "# Data Science Tools and Ecosystem."
   ]
  },
  {
   "cell_type": "markdown",
   "id": "1585ec8a-cfed-4b5f-949a-78fb346b7c4f",
   "metadata": {},
   "source": [
    "## In this notebook, Data Science Tools and Ecosystem are summarized."
   ]
  },
  {
   "cell_type": "markdown",
   "id": "98db58ac-3a6a-478b-bb1b-42a6be3bd574",
   "metadata": {},
   "source": [
    "### Some of the popular languages that Data Scientists use are:\n",
    "1.  Python\n",
    "2.  SQL\n",
    "3.  R\n",
    "4.  Julia"
   ]
  },
  {
   "cell_type": "markdown",
   "id": "bb67a132-95c9-498b-b3f5-9d94c85b9866",
   "metadata": {},
   "source": [
    "### Some of the commonly used libraries used by Data Scientists include:\n",
    "1.  Pandas\n",
    "2.  NumPy\n",
    "3.  Seaborn"
   ]
  },
  {
   "cell_type": "markdown",
   "id": "716fc41f-98eb-4a71-96a9-f2df24005f2b",
   "metadata": {},
   "source": [
    "| Data Science Tools |\n",
    "| ------------------ |\n",
    "| JupyterLab |\n",
    "| RStudio |\n",
    "| GitHub |"
   ]
  },
  {
   "cell_type": "markdown",
   "id": "956d1d9c-8807-40c9-9d0c-6debc4a80567",
   "metadata": {},
   "source": [
    "**Objectives:**\n",
    "- List popular languages for Data Science\n",
    "- list commonly used libraries\n",
    "- list data science tools\n",
    "- list examples of evaluating arithmetic exoression in python"
   ]
  },
  {
   "cell_type": "markdown",
   "id": "acb8b949-b9c3-4ee2-a0c1-8bc53add6a56",
   "metadata": {
    "tags": []
   },
   "source": [
    "### Below are a few examples of evaluating arithmetic expressions in Python"
   ]
  },
  {
   "cell_type": "markdown",
   "id": "c9b5a1ac-701c-4470-a69f-8d243ab237c1",
   "metadata": {},
   "source": [
    "####  This a simple arithmetic expression to mutiply then add integers"
   ]
  },
  {
   "cell_type": "code",
   "execution_count": 2,
   "id": "a106933f-0e81-40aa-8a60-bdd4c0213f67",
   "metadata": {
    "tags": []
   },
   "outputs": [
    {
     "data": {
      "text/plain": [
       "17"
      ]
     },
     "execution_count": 2,
     "metadata": {},
     "output_type": "execute_result"
    }
   ],
   "source": [
    "(3*4)+5"
   ]
  },
  {
   "cell_type": "markdown",
   "id": "fe7c8494-65ea-4dec-b905-4d2d5efe1ba5",
   "metadata": {},
   "source": [
    "#### This will convert 200 minutes to hours by diving by 60"
   ]
  },
  {
   "cell_type": "code",
   "execution_count": 3,
   "id": "b3077aaa-a562-4fe5-8187-28c15e4735eb",
   "metadata": {
    "tags": []
   },
   "outputs": [
    {
     "data": {
      "text/plain": [
       "3.3333333333333335"
      ]
     },
     "execution_count": 3,
     "metadata": {},
     "output_type": "execute_result"
    }
   ],
   "source": [
    "200/60"
   ]
  },
  {
   "cell_type": "markdown",
   "id": "64848b0c-1f19-42d5-b6c5-756cc0c25ea8",
   "metadata": {},
   "source": [
    "## Author\n",
    "###### Sorokin A."
   ]
  }
 ],
 "metadata": {
  "kernelspec": {
   "display_name": "Python",
   "language": "python",
   "name": "conda-env-python-py"
  },
  "language_info": {
   "codemirror_mode": {
    "name": "ipython",
    "version": 3
   },
   "file_extension": ".py",
   "mimetype": "text/x-python",
   "name": "python",
   "nbconvert_exporter": "python",
   "pygments_lexer": "ipython3",
   "version": "3.7.12"
  }
 },
 "nbformat": 4,
 "nbformat_minor": 5
}
