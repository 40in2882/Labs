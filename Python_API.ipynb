{
 "cells": [
  {
   "cell_type": "code",
   "execution_count": 19,
   "id": "99b37fb4-ccd7-44bc-af9c-971208e06e07",
   "metadata": {},
   "outputs": [],
   "source": [
    "import pandas as pd\n",
    "import matplotlib.pyplot as plt"
   ]
  },
  {
   "cell_type": "code",
   "execution_count": 20,
   "id": "b7e88002-a015-430a-a64c-f580a4ef7b47",
   "metadata": {},
   "outputs": [],
   "source": [
    "from nba_api.stats.static import teams\n",
    "import matplotlib.pyplot as plt"
   ]
  },
  {
   "cell_type": "code",
   "execution_count": 21,
   "id": "8859b222-1816-43e9-8502-fcd0bbe44b02",
   "metadata": {},
   "outputs": [
    {
     "name": "stdout",
     "output_type": "stream",
     "text": [
      "Defaulting to user installation because normal site-packages is not writeable\n",
      "Looking in links: /usr/share/pip-wheels\n",
      "Requirement already satisfied: nba_api in ./.local/lib/python3.10/site-packages (1.5.0)\n",
      "Requirement already satisfied: certifi<2024.0.0,>=2023.7.22 in ./.local/lib/python3.10/site-packages (from nba_api) (2023.11.17)\n",
      "Requirement already satisfied: numpy<2.0.0,>=1.22.2 in /opt/conda/envs/anaconda-ai-2024.04-py310/lib/python3.10/site-packages (from nba_api) (1.26.4)\n",
      "Requirement already satisfied: requests<3.0,>=2.31 in /opt/conda/envs/anaconda-ai-2024.04-py310/lib/python3.10/site-packages (from nba_api) (2.31.0)\n",
      "Requirement already satisfied: charset-normalizer<4,>=2 in /opt/conda/envs/anaconda-ai-2024.04-py310/lib/python3.10/site-packages (from requests<3.0,>=2.31->nba_api) (2.0.4)\n",
      "Requirement already satisfied: idna<4,>=2.5 in /opt/conda/envs/anaconda-ai-2024.04-py310/lib/python3.10/site-packages (from requests<3.0,>=2.31->nba_api) (3.4)\n",
      "Requirement already satisfied: urllib3<3,>=1.21.1 in /opt/conda/envs/anaconda-ai-2024.04-py310/lib/python3.10/site-packages (from requests<3.0,>=2.31->nba_api) (2.0.7)\n"
     ]
    }
   ],
   "source": [
    "!pip install nba_api"
   ]
  },
  {
   "cell_type": "code",
   "execution_count": 22,
   "id": "bd3a7287-c177-4200-9929-4b5e6ac3c9c2",
   "metadata": {},
   "outputs": [],
   "source": [
    "def one_dict(list_dict):\n",
    "    keys=list_dict[0].keys()\n",
    "    out_dict={key:[] for key in keys}\n",
    "    for dict_ in list_dict:\n",
    "        for key, value in dict_.items():\n",
    "            out_dict[key].append(value)\n",
    "    return out_dict"
   ]
  },
  {
   "cell_type": "code",
   "execution_count": 23,
   "id": "19bb3170-d622-4c2b-9cb8-db32fd019388",
   "metadata": {},
   "outputs": [],
   "source": [
    "nba_teams = teams.get_teams()"
   ]
  },
  {
   "cell_type": "code",
   "execution_count": 24,
   "id": "58b67a99-3189-4b07-9c56-0caa2732614e",
   "metadata": {},
   "outputs": [
    {
     "data": {
      "text/plain": [
       "[{'id': 1610612737,\n",
       "  'full_name': 'Atlanta Hawks',\n",
       "  'abbreviation': 'ATL',\n",
       "  'nickname': 'Hawks',\n",
       "  'city': 'Atlanta',\n",
       "  'state': 'Georgia',\n",
       "  'year_founded': 1949},\n",
       " {'id': 1610612738,\n",
       "  'full_name': 'Boston Celtics',\n",
       "  'abbreviation': 'BOS',\n",
       "  'nickname': 'Celtics',\n",
       "  'city': 'Boston',\n",
       "  'state': 'Massachusetts',\n",
       "  'year_founded': 1946},\n",
       " {'id': 1610612739,\n",
       "  'full_name': 'Cleveland Cavaliers',\n",
       "  'abbreviation': 'CLE',\n",
       "  'nickname': 'Cavaliers',\n",
       "  'city': 'Cleveland',\n",
       "  'state': 'Ohio',\n",
       "  'year_founded': 1970}]"
      ]
     },
     "execution_count": 24,
     "metadata": {},
     "output_type": "execute_result"
    }
   ],
   "source": [
    "nba_teams[0:3]"
   ]
  },
  {
   "cell_type": "code",
   "execution_count": 25,
   "id": "e20edf70-97dd-4acb-9bd5-3e767543dc3c",
   "metadata": {},
   "outputs": [
    {
     "data": {
      "text/html": [
       "<div>\n",
       "<style scoped>\n",
       "    .dataframe tbody tr th:only-of-type {\n",
       "        vertical-align: middle;\n",
       "    }\n",
       "\n",
       "    .dataframe tbody tr th {\n",
       "        vertical-align: top;\n",
       "    }\n",
       "\n",
       "    .dataframe thead th {\n",
       "        text-align: right;\n",
       "    }\n",
       "</style>\n",
       "<table border=\"1\" class=\"dataframe\">\n",
       "  <thead>\n",
       "    <tr style=\"text-align: right;\">\n",
       "      <th></th>\n",
       "      <th>id</th>\n",
       "      <th>full_name</th>\n",
       "      <th>abbreviation</th>\n",
       "      <th>nickname</th>\n",
       "      <th>city</th>\n",
       "      <th>state</th>\n",
       "      <th>year_founded</th>\n",
       "    </tr>\n",
       "  </thead>\n",
       "  <tbody>\n",
       "    <tr>\n",
       "      <th>0</th>\n",
       "      <td>1610612737</td>\n",
       "      <td>Atlanta Hawks</td>\n",
       "      <td>ATL</td>\n",
       "      <td>Hawks</td>\n",
       "      <td>Atlanta</td>\n",
       "      <td>Georgia</td>\n",
       "      <td>1949</td>\n",
       "    </tr>\n",
       "    <tr>\n",
       "      <th>1</th>\n",
       "      <td>1610612738</td>\n",
       "      <td>Boston Celtics</td>\n",
       "      <td>BOS</td>\n",
       "      <td>Celtics</td>\n",
       "      <td>Boston</td>\n",
       "      <td>Massachusetts</td>\n",
       "      <td>1946</td>\n",
       "    </tr>\n",
       "    <tr>\n",
       "      <th>2</th>\n",
       "      <td>1610612739</td>\n",
       "      <td>Cleveland Cavaliers</td>\n",
       "      <td>CLE</td>\n",
       "      <td>Cavaliers</td>\n",
       "      <td>Cleveland</td>\n",
       "      <td>Ohio</td>\n",
       "      <td>1970</td>\n",
       "    </tr>\n",
       "    <tr>\n",
       "      <th>3</th>\n",
       "      <td>1610612740</td>\n",
       "      <td>New Orleans Pelicans</td>\n",
       "      <td>NOP</td>\n",
       "      <td>Pelicans</td>\n",
       "      <td>New Orleans</td>\n",
       "      <td>Louisiana</td>\n",
       "      <td>2002</td>\n",
       "    </tr>\n",
       "    <tr>\n",
       "      <th>4</th>\n",
       "      <td>1610612741</td>\n",
       "      <td>Chicago Bulls</td>\n",
       "      <td>CHI</td>\n",
       "      <td>Bulls</td>\n",
       "      <td>Chicago</td>\n",
       "      <td>Illinois</td>\n",
       "      <td>1966</td>\n",
       "    </tr>\n",
       "  </tbody>\n",
       "</table>\n",
       "</div>"
      ],
      "text/plain": [
       "           id             full_name abbreviation   nickname         city  \\\n",
       "0  1610612737         Atlanta Hawks          ATL      Hawks      Atlanta   \n",
       "1  1610612738        Boston Celtics          BOS    Celtics       Boston   \n",
       "2  1610612739   Cleveland Cavaliers          CLE  Cavaliers    Cleveland   \n",
       "3  1610612740  New Orleans Pelicans          NOP   Pelicans  New Orleans   \n",
       "4  1610612741         Chicago Bulls          CHI      Bulls      Chicago   \n",
       "\n",
       "           state  year_founded  \n",
       "0        Georgia          1949  \n",
       "1  Massachusetts          1946  \n",
       "2           Ohio          1970  \n",
       "3      Louisiana          2002  \n",
       "4       Illinois          1966  "
      ]
     },
     "execution_count": 25,
     "metadata": {},
     "output_type": "execute_result"
    }
   ],
   "source": [
    "dict_nba_team=one_dict(nba_teams)\n",
    "df_teams=pd.DataFrame(dict_nba_team)\n",
    "df_teams.head()"
   ]
  },
  {
   "cell_type": "code",
   "execution_count": 26,
   "id": "62ceb52a-1e9a-4500-a79f-cf6acb8f4a39",
   "metadata": {},
   "outputs": [
    {
     "data": {
      "text/html": [
       "<div>\n",
       "<style scoped>\n",
       "    .dataframe tbody tr th:only-of-type {\n",
       "        vertical-align: middle;\n",
       "    }\n",
       "\n",
       "    .dataframe tbody tr th {\n",
       "        vertical-align: top;\n",
       "    }\n",
       "\n",
       "    .dataframe thead th {\n",
       "        text-align: right;\n",
       "    }\n",
       "</style>\n",
       "<table border=\"1\" class=\"dataframe\">\n",
       "  <thead>\n",
       "    <tr style=\"text-align: right;\">\n",
       "      <th></th>\n",
       "      <th>id</th>\n",
       "      <th>full_name</th>\n",
       "      <th>abbreviation</th>\n",
       "      <th>nickname</th>\n",
       "      <th>city</th>\n",
       "      <th>state</th>\n",
       "      <th>year_founded</th>\n",
       "    </tr>\n",
       "  </thead>\n",
       "  <tbody>\n",
       "    <tr>\n",
       "      <th>7</th>\n",
       "      <td>1610612744</td>\n",
       "      <td>Golden State Warriors</td>\n",
       "      <td>GSW</td>\n",
       "      <td>Warriors</td>\n",
       "      <td>Golden State</td>\n",
       "      <td>California</td>\n",
       "      <td>1946</td>\n",
       "    </tr>\n",
       "  </tbody>\n",
       "</table>\n",
       "</div>"
      ],
      "text/plain": [
       "           id              full_name abbreviation  nickname          city  \\\n",
       "7  1610612744  Golden State Warriors          GSW  Warriors  Golden State   \n",
       "\n",
       "        state  year_founded  \n",
       "7  California          1946  "
      ]
     },
     "execution_count": 26,
     "metadata": {},
     "output_type": "execute_result"
    }
   ],
   "source": [
    "df_warriors=df_teams[df_teams['nickname']=='Warriors']\n",
    "df_warriors"
   ]
  },
  {
   "cell_type": "code",
   "execution_count": 27,
   "id": "55b62a71-3ec0-4ddb-acf1-ddf21a7f03c6",
   "metadata": {},
   "outputs": [],
   "source": [
    "id_warriors=df_warriors[['id']].values[0][0]"
   ]
  },
  {
   "cell_type": "code",
   "execution_count": 30,
   "id": "438e77f9-7531-4a17-983f-b1598af887d0",
   "metadata": {},
   "outputs": [
    {
     "ename": "ModuleNotFoundError",
     "evalue": "No module named 'nba_api'",
     "output_type": "error",
     "traceback": [
      "\u001b[0;31m---------------------------------------------------------------------------\u001b[0m",
      "\u001b[0;31mModuleNotFoundError\u001b[0m                       Traceback (most recent call last)",
      "Input \u001b[0;32mIn [30]\u001b[0m, in \u001b[0;36m<cell line: 1>\u001b[0;34m()\u001b[0m\n\u001b[0;32m----> 1\u001b[0m \u001b[38;5;28;01mfrom\u001b[39;00m \u001b[38;5;21;01mnba_api\u001b[39;00m\u001b[38;5;21;01m.\u001b[39;00m\u001b[38;5;21;01mstats\u001b[39;00m\u001b[38;5;21;01m.\u001b[39;00m\u001b[38;5;21;01mendpoints\u001b[39;00m \u001b[38;5;28;01mimport\u001b[39;00m leaguegamefinder\n\u001b[1;32m      2\u001b[0m gamefinder \u001b[38;5;241m=\u001b[39m leaguegamefinder\u001b[38;5;241m.\u001b[39mLeagueGameFinder(team_id_nullable\u001b[38;5;241m=\u001b[39mid_warriors)\n\u001b[1;32m      3\u001b[0m gamefinder\u001b[38;5;241m.\u001b[39mget_json()\n",
      "\u001b[0;31mModuleNotFoundError\u001b[0m: No module named 'nba_api'"
     ]
    }
   ],
   "source": [
    "from nba_api.stats.endpoints import leaguegamefinder\n",
    "gamefinder = leaguegamefinder.LeagueGameFinder(team_id_nullable=id_warriors)\n",
    "gamefinder.get_json()\n",
    "games = gamefinder.get_data_frames()[0]\n",
    "games.head()"
   ]
  },
  {
   "cell_type": "markdown",
   "id": "e3183952-43b6-48bd-9f41-9d6f7a55f8be",
   "metadata": {},
   "source": [
    "### еще пример"
   ]
  },
  {
   "cell_type": "code",
   "execution_count": 17,
   "id": "4960cb07-f214-4e7b-b102-b51eee17701b",
   "metadata": {},
   "outputs": [],
   "source": [
    "import numpy as np\n",
    "import pandas as pd\n",
    "\n",
    "# You can also use this section to suppress warnings generated by your code:\n",
    "def warn(*args, **kwargs):\n",
    "    pass\n",
    "import warnings\n",
    "warnings.warn = warn\n",
    "warnings.filterwarnings('ignore')"
   ]
  },
  {
   "cell_type": "code",
   "execution_count": 8,
   "id": "420693bc-704e-4e3b-9565-ea104702a571",
   "metadata": {},
   "outputs": [],
   "source": [
    "URL=\"https://web.archive.org/web/20230902185326/https://en.wikipedia.org/wiki/List_of_countries_by_GDP_%28nominal%29\""
   ]
  },
  {
   "cell_type": "code",
   "execution_count": 20,
   "id": "cd2c4315-694a-4299-a8db-bad4cea719b6",
   "metadata": {},
   "outputs": [
    {
     "name": "stdout",
     "output_type": "stream",
     "text": [
      "    Country/Territory UN region IMF[1][13]            World Bank[14]  \\\n",
      "    Country/Territory UN region   Estimate       Year       Estimate   \n",
      "0               World         —  105568776       2023      100562011   \n",
      "1       United States  Americas   26854599       2023       25462700   \n",
      "2               China      Asia   19373586  [n 1]2023       17963171   \n",
      "3               Japan      Asia    4409738       2023        4231141   \n",
      "4             Germany    Europe    4308854       2023        4072192   \n",
      "..                ...       ...        ...        ...            ...   \n",
      "209          Anguilla  Americas          —          —              —   \n",
      "210          Kiribati   Oceania        248       2023            223   \n",
      "211             Nauru   Oceania        151       2023            151   \n",
      "212        Montserrat  Americas          —          —              —   \n",
      "213            Tuvalu   Oceania         65       2023             60   \n",
      "\n",
      "               United Nations[15]             \n",
      "          Year           Estimate       Year  \n",
      "0         2022           96698005       2021  \n",
      "1         2022           23315081       2021  \n",
      "2    [n 3]2022           17734131  [n 1]2021  \n",
      "3         2022            4940878       2021  \n",
      "4         2022            4259935       2021  \n",
      "..         ...                ...        ...  \n",
      "209          —                303       2021  \n",
      "210       2022                227       2021  \n",
      "211       2022                155       2021  \n",
      "212          —                 72       2021  \n",
      "213       2022                 60       2021  \n",
      "\n",
      "[214 rows x 8 columns]\n"
     ]
    }
   ],
   "source": [
    "# Extract tables from webpage using Pandas. Retain table number 3 as the required dataframe.\n",
    "tables = pd.read_html(URL)\n",
    "df = tables[3]# Replace the column headers with column numbers\n",
    "print(df)"
   ]
  },
  {
   "cell_type": "code",
   "execution_count": 21,
   "id": "65a1fb21-2d58-4659-8ea3-8589796d3c8f",
   "metadata": {},
   "outputs": [
    {
     "name": "stdout",
     "output_type": "stream",
     "text": [
      "                 0         1          2          3          4          5  \\\n",
      "0            World         —  105568776       2023  100562011       2022   \n",
      "1    United States  Americas   26854599       2023   25462700       2022   \n",
      "2            China      Asia   19373586  [n 1]2023   17963171  [n 3]2022   \n",
      "3            Japan      Asia    4409738       2023    4231141       2022   \n",
      "4          Germany    Europe    4308854       2023    4072192       2022   \n",
      "..             ...       ...        ...        ...        ...        ...   \n",
      "209       Anguilla  Americas          —          —          —          —   \n",
      "210       Kiribati   Oceania        248       2023        223       2022   \n",
      "211          Nauru   Oceania        151       2023        151       2022   \n",
      "212     Montserrat  Americas          —          —          —          —   \n",
      "213         Tuvalu   Oceania         65       2023         60       2022   \n",
      "\n",
      "            6          7  \n",
      "0    96698005       2021  \n",
      "1    23315081       2021  \n",
      "2    17734131  [n 1]2021  \n",
      "3     4940878       2021  \n",
      "4     4259935       2021  \n",
      "..        ...        ...  \n",
      "209       303       2021  \n",
      "210       227       2021  \n",
      "211       155       2021  \n",
      "212        72       2021  \n",
      "213        60       2021  \n",
      "\n",
      "[214 rows x 8 columns]\n"
     ]
    }
   ],
   "source": [
    "df.columns = range(df.shape[1])\n",
    "print(df)"
   ]
  },
  {
   "cell_type": "code",
   "execution_count": 22,
   "id": "6be5b80f-0ce2-46af-9738-f15c27a735e3",
   "metadata": {},
   "outputs": [
    {
     "name": "stdout",
     "output_type": "stream",
     "text": [
      "                 0          2\n",
      "0            World  105568776\n",
      "1    United States   26854599\n",
      "2            China   19373586\n",
      "3            Japan    4409738\n",
      "4          Germany    4308854\n",
      "..             ...        ...\n",
      "209       Anguilla          —\n",
      "210       Kiribati        248\n",
      "211          Nauru        151\n",
      "212     Montserrat          —\n",
      "213         Tuvalu         65\n",
      "\n",
      "[214 rows x 2 columns]\n"
     ]
    }
   ],
   "source": [
    "# Retain columns with index 0 and 2 (name of country and value of GDP quoted by IMF)\n",
    "df = df[[0,2]]\n",
    "print(df)"
   ]
  },
  {
   "cell_type": "code",
   "execution_count": 23,
   "id": "d647c8cd-735d-4f61-b1c5-5a7368eab28a",
   "metadata": {},
   "outputs": [
    {
     "name": "stdout",
     "output_type": "stream",
     "text": [
      "                 0         2\n",
      "1    United States  26854599\n",
      "2            China  19373586\n",
      "3            Japan   4409738\n",
      "4          Germany   4308854\n",
      "5            India   3736882\n",
      "6   United Kingdom   3158938\n",
      "7           France   2923489\n",
      "8            Italy   2169745\n",
      "9           Canada   2089672\n",
      "10          Brazil   2081235\n"
     ]
    }
   ],
   "source": [
    "# Retain the Rows with index 1 to 10, indicating the top 10 economies of the world.\n",
    "df = df.iloc[1:11,:]\n",
    "print(df)"
   ]
  },
  {
   "cell_type": "code",
   "execution_count": 24,
   "id": "636c47e5-bfad-4478-b809-c5f46676998b",
   "metadata": {},
   "outputs": [
    {
     "name": "stdout",
     "output_type": "stream",
     "text": [
      "           Country GDP (Million USD)\n",
      "1    United States          26854599\n",
      "2            China          19373586\n",
      "3            Japan           4409738\n",
      "4          Germany           4308854\n",
      "5            India           3736882\n",
      "6   United Kingdom           3158938\n",
      "7           France           2923489\n",
      "8            Italy           2169745\n",
      "9           Canada           2089672\n",
      "10          Brazil           2081235\n"
     ]
    }
   ],
   "source": [
    "# Assign column names as \"Country\" and \"GDP (Million USD)\"\n",
    "df.columns = ['Country','GDP (Million USD)']\n",
    "print(df)"
   ]
  },
  {
   "cell_type": "code",
   "execution_count": 25,
   "id": "ec41d1b0-5a7c-495a-aa9b-6f8a79127203",
   "metadata": {},
   "outputs": [
    {
     "data": {
      "text/html": [
       "<div>\n",
       "<style scoped>\n",
       "    .dataframe tbody tr th:only-of-type {\n",
       "        vertical-align: middle;\n",
       "    }\n",
       "\n",
       "    .dataframe tbody tr th {\n",
       "        vertical-align: top;\n",
       "    }\n",
       "\n",
       "    .dataframe thead th {\n",
       "        text-align: right;\n",
       "    }\n",
       "</style>\n",
       "<table border=\"1\" class=\"dataframe\">\n",
       "  <thead>\n",
       "    <tr style=\"text-align: right;\">\n",
       "      <th></th>\n",
       "      <th>Country</th>\n",
       "      <th>GDP (Million USD)</th>\n",
       "    </tr>\n",
       "  </thead>\n",
       "  <tbody>\n",
       "    <tr>\n",
       "      <th>1</th>\n",
       "      <td>United States</td>\n",
       "      <td>26854599</td>\n",
       "    </tr>\n",
       "    <tr>\n",
       "      <th>2</th>\n",
       "      <td>China</td>\n",
       "      <td>19373586</td>\n",
       "    </tr>\n",
       "    <tr>\n",
       "      <th>3</th>\n",
       "      <td>Japan</td>\n",
       "      <td>4409738</td>\n",
       "    </tr>\n",
       "    <tr>\n",
       "      <th>4</th>\n",
       "      <td>Germany</td>\n",
       "      <td>4308854</td>\n",
       "    </tr>\n",
       "    <tr>\n",
       "      <th>5</th>\n",
       "      <td>India</td>\n",
       "      <td>3736882</td>\n",
       "    </tr>\n",
       "    <tr>\n",
       "      <th>6</th>\n",
       "      <td>United Kingdom</td>\n",
       "      <td>3158938</td>\n",
       "    </tr>\n",
       "    <tr>\n",
       "      <th>7</th>\n",
       "      <td>France</td>\n",
       "      <td>2923489</td>\n",
       "    </tr>\n",
       "    <tr>\n",
       "      <th>8</th>\n",
       "      <td>Italy</td>\n",
       "      <td>2169745</td>\n",
       "    </tr>\n",
       "    <tr>\n",
       "      <th>9</th>\n",
       "      <td>Canada</td>\n",
       "      <td>2089672</td>\n",
       "    </tr>\n",
       "    <tr>\n",
       "      <th>10</th>\n",
       "      <td>Brazil</td>\n",
       "      <td>2081235</td>\n",
       "    </tr>\n",
       "  </tbody>\n",
       "</table>\n",
       "</div>"
      ],
      "text/plain": [
       "           Country  GDP (Million USD)\n",
       "1    United States           26854599\n",
       "2            China           19373586\n",
       "3            Japan            4409738\n",
       "4          Germany            4308854\n",
       "5            India            3736882\n",
       "6   United Kingdom            3158938\n",
       "7           France            2923489\n",
       "8            Italy            2169745\n",
       "9           Canada            2089672\n",
       "10          Brazil            2081235"
      ]
     },
     "execution_count": 25,
     "metadata": {},
     "output_type": "execute_result"
    }
   ],
   "source": [
    "# Change the data type of the 'GDP (Million USD)' column to integer. Use astype() method.\n",
    "df['GDP (Million USD)'] = df['GDP (Million USD)'].astype(int)\n",
    "df"
   ]
  },
  {
   "cell_type": "code",
   "execution_count": 26,
   "id": "91465da4-320a-4bb3-87e9-a4ea3d969aad",
   "metadata": {},
   "outputs": [
    {
     "data": {
      "text/html": [
       "<div>\n",
       "<style scoped>\n",
       "    .dataframe tbody tr th:only-of-type {\n",
       "        vertical-align: middle;\n",
       "    }\n",
       "\n",
       "    .dataframe tbody tr th {\n",
       "        vertical-align: top;\n",
       "    }\n",
       "\n",
       "    .dataframe thead th {\n",
       "        text-align: right;\n",
       "    }\n",
       "</style>\n",
       "<table border=\"1\" class=\"dataframe\">\n",
       "  <thead>\n",
       "    <tr style=\"text-align: right;\">\n",
       "      <th></th>\n",
       "      <th>Country</th>\n",
       "      <th>GDP (Million USD)</th>\n",
       "    </tr>\n",
       "  </thead>\n",
       "  <tbody>\n",
       "    <tr>\n",
       "      <th>1</th>\n",
       "      <td>United States</td>\n",
       "      <td>26854.599</td>\n",
       "    </tr>\n",
       "    <tr>\n",
       "      <th>2</th>\n",
       "      <td>China</td>\n",
       "      <td>19373.586</td>\n",
       "    </tr>\n",
       "    <tr>\n",
       "      <th>3</th>\n",
       "      <td>Japan</td>\n",
       "      <td>4409.738</td>\n",
       "    </tr>\n",
       "    <tr>\n",
       "      <th>4</th>\n",
       "      <td>Germany</td>\n",
       "      <td>4308.854</td>\n",
       "    </tr>\n",
       "    <tr>\n",
       "      <th>5</th>\n",
       "      <td>India</td>\n",
       "      <td>3736.882</td>\n",
       "    </tr>\n",
       "    <tr>\n",
       "      <th>6</th>\n",
       "      <td>United Kingdom</td>\n",
       "      <td>3158.938</td>\n",
       "    </tr>\n",
       "    <tr>\n",
       "      <th>7</th>\n",
       "      <td>France</td>\n",
       "      <td>2923.489</td>\n",
       "    </tr>\n",
       "    <tr>\n",
       "      <th>8</th>\n",
       "      <td>Italy</td>\n",
       "      <td>2169.745</td>\n",
       "    </tr>\n",
       "    <tr>\n",
       "      <th>9</th>\n",
       "      <td>Canada</td>\n",
       "      <td>2089.672</td>\n",
       "    </tr>\n",
       "    <tr>\n",
       "      <th>10</th>\n",
       "      <td>Brazil</td>\n",
       "      <td>2081.235</td>\n",
       "    </tr>\n",
       "  </tbody>\n",
       "</table>\n",
       "</div>"
      ],
      "text/plain": [
       "           Country  GDP (Million USD)\n",
       "1    United States          26854.599\n",
       "2            China          19373.586\n",
       "3            Japan           4409.738\n",
       "4          Germany           4308.854\n",
       "5            India           3736.882\n",
       "6   United Kingdom           3158.938\n",
       "7           France           2923.489\n",
       "8            Italy           2169.745\n",
       "9           Canada           2089.672\n",
       "10          Brazil           2081.235"
      ]
     },
     "execution_count": 26,
     "metadata": {},
     "output_type": "execute_result"
    }
   ],
   "source": [
    "# Convert the GDP value in Million USD to Billion USD\n",
    "df[['GDP (Million USD)']] = df[['GDP (Million USD)']]/1000\n",
    "df"
   ]
  },
  {
   "cell_type": "code",
   "execution_count": 27,
   "id": "3e031714-d5bc-47fc-826d-8ace094e12a5",
   "metadata": {},
   "outputs": [
    {
     "data": {
      "text/html": [
       "<div>\n",
       "<style scoped>\n",
       "    .dataframe tbody tr th:only-of-type {\n",
       "        vertical-align: middle;\n",
       "    }\n",
       "\n",
       "    .dataframe tbody tr th {\n",
       "        vertical-align: top;\n",
       "    }\n",
       "\n",
       "    .dataframe thead th {\n",
       "        text-align: right;\n",
       "    }\n",
       "</style>\n",
       "<table border=\"1\" class=\"dataframe\">\n",
       "  <thead>\n",
       "    <tr style=\"text-align: right;\">\n",
       "      <th></th>\n",
       "      <th>Country</th>\n",
       "      <th>GDP (Million USD)</th>\n",
       "    </tr>\n",
       "  </thead>\n",
       "  <tbody>\n",
       "    <tr>\n",
       "      <th>1</th>\n",
       "      <td>United States</td>\n",
       "      <td>26854.60</td>\n",
       "    </tr>\n",
       "    <tr>\n",
       "      <th>2</th>\n",
       "      <td>China</td>\n",
       "      <td>19373.59</td>\n",
       "    </tr>\n",
       "    <tr>\n",
       "      <th>3</th>\n",
       "      <td>Japan</td>\n",
       "      <td>4409.74</td>\n",
       "    </tr>\n",
       "    <tr>\n",
       "      <th>4</th>\n",
       "      <td>Germany</td>\n",
       "      <td>4308.85</td>\n",
       "    </tr>\n",
       "    <tr>\n",
       "      <th>5</th>\n",
       "      <td>India</td>\n",
       "      <td>3736.88</td>\n",
       "    </tr>\n",
       "    <tr>\n",
       "      <th>6</th>\n",
       "      <td>United Kingdom</td>\n",
       "      <td>3158.94</td>\n",
       "    </tr>\n",
       "    <tr>\n",
       "      <th>7</th>\n",
       "      <td>France</td>\n",
       "      <td>2923.49</td>\n",
       "    </tr>\n",
       "    <tr>\n",
       "      <th>8</th>\n",
       "      <td>Italy</td>\n",
       "      <td>2169.74</td>\n",
       "    </tr>\n",
       "    <tr>\n",
       "      <th>9</th>\n",
       "      <td>Canada</td>\n",
       "      <td>2089.67</td>\n",
       "    </tr>\n",
       "    <tr>\n",
       "      <th>10</th>\n",
       "      <td>Brazil</td>\n",
       "      <td>2081.24</td>\n",
       "    </tr>\n",
       "  </tbody>\n",
       "</table>\n",
       "</div>"
      ],
      "text/plain": [
       "           Country  GDP (Million USD)\n",
       "1    United States           26854.60\n",
       "2            China           19373.59\n",
       "3            Japan            4409.74\n",
       "4          Germany            4308.85\n",
       "5            India            3736.88\n",
       "6   United Kingdom            3158.94\n",
       "7           France            2923.49\n",
       "8            Italy            2169.74\n",
       "9           Canada            2089.67\n",
       "10          Brazil            2081.24"
      ]
     },
     "execution_count": 27,
     "metadata": {},
     "output_type": "execute_result"
    }
   ],
   "source": [
    "# Use numpy.round() method to round the value to 2 decimal places.\n",
    "df[['GDP (Million USD)']] = np.round(df[['GDP (Million USD)']], 2)\n",
    "df"
   ]
  },
  {
   "cell_type": "code",
   "execution_count": 28,
   "id": "36cdc94c-b2f8-4ec7-876b-b44a6391f89d",
   "metadata": {},
   "outputs": [
    {
     "data": {
      "text/html": [
       "<div>\n",
       "<style scoped>\n",
       "    .dataframe tbody tr th:only-of-type {\n",
       "        vertical-align: middle;\n",
       "    }\n",
       "\n",
       "    .dataframe tbody tr th {\n",
       "        vertical-align: top;\n",
       "    }\n",
       "\n",
       "    .dataframe thead th {\n",
       "        text-align: right;\n",
       "    }\n",
       "</style>\n",
       "<table border=\"1\" class=\"dataframe\">\n",
       "  <thead>\n",
       "    <tr style=\"text-align: right;\">\n",
       "      <th></th>\n",
       "      <th>Country</th>\n",
       "      <th>GDP (Billion USD)</th>\n",
       "    </tr>\n",
       "  </thead>\n",
       "  <tbody>\n",
       "    <tr>\n",
       "      <th>1</th>\n",
       "      <td>United States</td>\n",
       "      <td>26854.60</td>\n",
       "    </tr>\n",
       "    <tr>\n",
       "      <th>2</th>\n",
       "      <td>China</td>\n",
       "      <td>19373.59</td>\n",
       "    </tr>\n",
       "    <tr>\n",
       "      <th>3</th>\n",
       "      <td>Japan</td>\n",
       "      <td>4409.74</td>\n",
       "    </tr>\n",
       "    <tr>\n",
       "      <th>4</th>\n",
       "      <td>Germany</td>\n",
       "      <td>4308.85</td>\n",
       "    </tr>\n",
       "    <tr>\n",
       "      <th>5</th>\n",
       "      <td>India</td>\n",
       "      <td>3736.88</td>\n",
       "    </tr>\n",
       "    <tr>\n",
       "      <th>6</th>\n",
       "      <td>United Kingdom</td>\n",
       "      <td>3158.94</td>\n",
       "    </tr>\n",
       "    <tr>\n",
       "      <th>7</th>\n",
       "      <td>France</td>\n",
       "      <td>2923.49</td>\n",
       "    </tr>\n",
       "    <tr>\n",
       "      <th>8</th>\n",
       "      <td>Italy</td>\n",
       "      <td>2169.74</td>\n",
       "    </tr>\n",
       "    <tr>\n",
       "      <th>9</th>\n",
       "      <td>Canada</td>\n",
       "      <td>2089.67</td>\n",
       "    </tr>\n",
       "    <tr>\n",
       "      <th>10</th>\n",
       "      <td>Brazil</td>\n",
       "      <td>2081.24</td>\n",
       "    </tr>\n",
       "  </tbody>\n",
       "</table>\n",
       "</div>"
      ],
      "text/plain": [
       "           Country  GDP (Billion USD)\n",
       "1    United States           26854.60\n",
       "2            China           19373.59\n",
       "3            Japan            4409.74\n",
       "4          Germany            4308.85\n",
       "5            India            3736.88\n",
       "6   United Kingdom            3158.94\n",
       "7           France            2923.49\n",
       "8            Italy            2169.74\n",
       "9           Canada            2089.67\n",
       "10          Brazil            2081.24"
      ]
     },
     "execution_count": 28,
     "metadata": {},
     "output_type": "execute_result"
    }
   ],
   "source": [
    "# Rename the column header from 'GDP (Million USD)' to 'GDP (Billion USD)'\n",
    "df.rename(columns = {'GDP (Million USD)' : 'GDP (Billion USD)'})"
   ]
  },
  {
   "cell_type": "code",
   "execution_count": 29,
   "id": "f2ab39fb-fa5e-46ae-941f-1032821a06f3",
   "metadata": {},
   "outputs": [],
   "source": [
    "df.to_csv('Largest_economies.csv')"
   ]
  },
  {
   "cell_type": "markdown",
   "id": "f268ac7b-404f-41d2-a979-1b08ccd56cae",
   "metadata": {},
   "source": [
    "### еще пример"
   ]
  },
  {
   "cell_type": "code",
   "execution_count": 16,
   "id": "12a25d92-0098-4778-bf48-9b07a8ff65ab",
   "metadata": {},
   "outputs": [
    {
     "name": "stdout",
     "output_type": "stream",
     "text": [
      "<!DOCTYPE html>\n",
      "<html class=\"client-nojs vector-feature-language-in-header-enabled vector-feature-language-in-main-page-header-disabled vector-feature-sticky-header-disabled vector-feature-page-tools-pinned-disabled vector-feature-toc-pinned-clientpref-1 vector-feature-main-menu-pinned-disabled vector-feature-limited-width-clientpref-1 vector-feature-limited-width-content-enabled vector-feature-custom-font-size-clientpref-1 vector-feature-appearance-enabled vector-feature-appearance-pinned-clien\n"
     ]
    }
   ],
   "source": [
    "import requests\n",
    "from bs4 import BeautifulSoup\n",
    "\n",
    "# Specify the URL of the webpage you want to scrape\n",
    "url = 'https://en.wikipedia.org/wiki/IBM'\n",
    "\n",
    "# Send an HTTP GET request to the webpage\n",
    "response = requests.get(url)\n",
    "\n",
    "# Store the HTML content in a variable\n",
    "html_content = response.text\n",
    "\n",
    "# Create a BeautifulSoup object to parse the HTML\n",
    "soup = BeautifulSoup(html_content, 'html.parser')\n",
    "\n",
    "# Display a snippet of the HTML content\n",
    "print(html_content[:500])"
   ]
  },
  {
   "cell_type": "markdown",
   "id": "8513f462-ca17-4487-8031-41a4a31571ac",
   "metadata": {},
   "source": [
    "### Python запрос"
   ]
  },
  {
   "cell_type": "code",
   "execution_count": 10,
   "id": "63562d4b-71e6-439c-9c3c-113b3c108848",
   "metadata": {},
   "outputs": [],
   "source": [
    "import requests"
   ]
  },
  {
   "cell_type": "code",
   "execution_count": 11,
   "id": "33c9608a-40f8-433a-90ff-45d3a643ff31",
   "metadata": {},
   "outputs": [],
   "source": [
    "import os \n",
    "from PIL import Image\n",
    "from IPython.display import IFrame"
   ]
  },
  {
   "cell_type": "code",
   "execution_count": 49,
   "id": "3265c99d-55f3-4ca8-8edd-aa19bb37c816",
   "metadata": {},
   "outputs": [],
   "source": [
    "url='https://en.wikipedia.org/wiki/IBM'"
   ]
  },
  {
   "cell_type": "code",
   "execution_count": 50,
   "id": "e7b5c561-3e48-40da-bba7-4594bf3c9938",
   "metadata": {},
   "outputs": [],
   "source": [
    "r = requests.get(url)"
   ]
  },
  {
   "cell_type": "code",
   "execution_count": 51,
   "id": "0a01cf1f-e11d-424b-af35-51d4dd8e1f15",
   "metadata": {},
   "outputs": [
    {
     "data": {
      "text/plain": [
       "200"
      ]
     },
     "execution_count": 51,
     "metadata": {},
     "output_type": "execute_result"
    }
   ],
   "source": [
    "r.status_code"
   ]
  },
  {
   "cell_type": "code",
   "execution_count": 52,
   "id": "ac4d0ebb-4d21-40c9-8c53-2366dcc26c77",
   "metadata": {},
   "outputs": [
    {
     "name": "stdout",
     "output_type": "stream",
     "text": [
      "{'User-Agent': 'python-requests/2.31.0', 'Accept-Encoding': 'gzip, deflate, br', 'Accept': '*/*', 'Connection': 'keep-alive'}\n"
     ]
    }
   ],
   "source": [
    "print(r.request.headers)"
   ]
  },
  {
   "cell_type": "code",
   "execution_count": 53,
   "id": "d355e5d5-e518-4b7d-834d-bd82e198b737",
   "metadata": {},
   "outputs": [
    {
     "name": "stdout",
     "output_type": "stream",
     "text": [
      "request body: None\n"
     ]
    }
   ],
   "source": [
    "print(\"request body:\", r.request.body)"
   ]
  },
  {
   "cell_type": "code",
   "execution_count": 54,
   "id": "76b0cd3f-2e5d-4bf4-8595-1c1135de5eb1",
   "metadata": {},
   "outputs": [
    {
     "name": "stdout",
     "output_type": "stream",
     "text": [
      "{'date': 'Sun, 11 Aug 2024 04:04:16 GMT', 'server': 'mw-web.eqiad.main-698f8ff66d-zhlpg', 'x-content-type-options': 'nosniff', 'content-language': 'en', 'origin-trial': 'AonOP4SwCrqpb0nhZbg554z9iJimP3DxUDB8V4yu9fyyepauGKD0NXqTknWi4gnuDfMG6hNb7TDUDTsl0mDw9gIAAABmeyJvcmlnaW4iOiJodHRwczovL3dpa2lwZWRpYS5vcmc6NDQzIiwiZmVhdHVyZSI6IlRvcExldmVsVHBjZCIsImV4cGlyeSI6MTczNTM0Mzk5OSwiaXNTdWJkb21haW4iOnRydWV9', 'accept-ch': '', 'vary': 'Accept-Encoding,Cookie,Authorization', 'last-modified': 'Sun, 11 Aug 2024 03:59:40 GMT', 'content-type': 'text/html; charset=UTF-8', 'content-encoding': 'gzip', 'age': '38805', 'x-cache': 'cp1100 miss, cp1100 hit/16', 'x-cache-status': 'hit-front', 'server-timing': 'cache;desc=\"hit-front\", host;desc=\"cp1100\"', 'strict-transport-security': 'max-age=106384710; includeSubDomains; preload', 'report-to': '{ \"group\": \"wm_nel\", \"max_age\": 604800, \"endpoints\": [{ \"url\": \"https://intake-logging.wikimedia.org/v1/events?stream=w3c.reportingapi.network_error&schema_uri=/w3c/reportingapi/network_error/1.0.0\" }] }', 'nel': '{ \"report_to\": \"wm_nel\", \"max_age\": 604800, \"failure_fraction\": 0.05, \"success_fraction\": 0.0}', 'set-cookie': 'WMF-Last-Access=11-Aug-2024;Path=/;HttpOnly;secure;Expires=Thu, 12 Sep 2024 12:00:00 GMT, WMF-Last-Access-Global=11-Aug-2024;Path=/;Domain=.wikipedia.org;HttpOnly;secure;Expires=Thu, 12 Sep 2024 12:00:00 GMT, WMF-DP=13b;Path=/;HttpOnly;secure;Expires=Mon, 12 Aug 2024 00:00:00 GMT, GeoIP=US:VA:Ashburn:39.05:-77.49:v4; Path=/; secure; Domain=.wikipedia.org, NetworkProbeLimit=0.001;Path=/;Secure;SameSite=Lax;Max-Age=3600', 'x-client-ip': '54.81.222.173', 'cache-control': 'private, s-maxage=0, max-age=0, must-revalidate', 'accept-ranges': 'bytes', 'content-length': '111220'}\n"
     ]
    }
   ],
   "source": [
    "header=r.headers\n",
    "print(r.headers)"
   ]
  },
  {
   "cell_type": "code",
   "execution_count": 55,
   "id": "0aea20a8-e238-4efa-a808-ba139316a307",
   "metadata": {},
   "outputs": [
    {
     "data": {
      "text/plain": [
       "'Sun, 11 Aug 2024 04:04:16 GMT'"
      ]
     },
     "execution_count": 55,
     "metadata": {},
     "output_type": "execute_result"
    }
   ],
   "source": [
    "header['date']"
   ]
  },
  {
   "cell_type": "code",
   "execution_count": 56,
   "id": "782c61a7-a1da-474b-895d-21ba6eab05c1",
   "metadata": {},
   "outputs": [
    {
     "data": {
      "text/plain": [
       "'text/html; charset=UTF-8'"
      ]
     },
     "execution_count": 56,
     "metadata": {},
     "output_type": "execute_result"
    }
   ],
   "source": [
    "header['Content-Type']"
   ]
  },
  {
   "cell_type": "code",
   "execution_count": 57,
   "id": "3ce2b40b-b367-45af-b0a6-59c7f78b71da",
   "metadata": {},
   "outputs": [
    {
     "data": {
      "text/plain": [
       "'UTF-8'"
      ]
     },
     "execution_count": 57,
     "metadata": {},
     "output_type": "execute_result"
    }
   ],
   "source": [
    " r.encoding"
   ]
  },
  {
   "cell_type": "code",
   "execution_count": 58,
   "id": "c6d7ca55-88f2-4226-a0ed-21e3e0655d73",
   "metadata": {},
   "outputs": [
    {
     "data": {
      "text/plain": [
       "'<!DOCTYPE html>\\n<html class=\"client-nojs vector-feature-language-in-header-enabled vector-feature-la'"
      ]
     },
     "execution_count": 58,
     "metadata": {},
     "output_type": "execute_result"
    }
   ],
   "source": [
    "r.text[0:100]"
   ]
  },
  {
   "cell_type": "markdown",
   "id": "2fed7ac7-dbfc-4bcf-937c-5097780ea182",
   "metadata": {},
   "source": [
    "### еще пример"
   ]
  },
  {
   "cell_type": "code",
   "execution_count": 60,
   "id": "6f069ce9-2465-4e5f-9010-ab405757281c",
   "metadata": {},
   "outputs": [],
   "source": [
    "url_get='http://httpbin.org/get' "
   ]
  },
  {
   "cell_type": "code",
   "execution_count": 61,
   "id": "167e5035-4f88-412a-a63a-22b5d5c3bede",
   "metadata": {},
   "outputs": [],
   "source": [
    "payload={\"name\":\"Joseph\",\"ID\":\"123\"}"
   ]
  },
  {
   "cell_type": "code",
   "execution_count": 62,
   "id": "d212d1c6-2204-4c76-bd58-dccec2ff21fb",
   "metadata": {},
   "outputs": [],
   "source": [
    "r=requests.get(url_get,params=payload)"
   ]
  },
  {
   "cell_type": "code",
   "execution_count": 63,
   "id": "829c8cbc-812f-4fbf-984f-11e8b1f7b795",
   "metadata": {},
   "outputs": [
    {
     "data": {
      "text/plain": [
       "'http://httpbin.org/get?name=Joseph&ID=123'"
      ]
     },
     "execution_count": 63,
     "metadata": {},
     "output_type": "execute_result"
    }
   ],
   "source": [
    "r.url"
   ]
  },
  {
   "cell_type": "code",
   "execution_count": 64,
   "id": "678f0426-df11-4bc5-9d14-18ff8905aa14",
   "metadata": {},
   "outputs": [
    {
     "name": "stdout",
     "output_type": "stream",
     "text": [
      "request body: None\n"
     ]
    }
   ],
   "source": [
    "print(\"request body:\", r.request.body)"
   ]
  },
  {
   "cell_type": "code",
   "execution_count": 65,
   "id": "f441f436-3aff-4865-9f73-c23e78ff5543",
   "metadata": {},
   "outputs": [
    {
     "name": "stdout",
     "output_type": "stream",
     "text": [
      "200\n"
     ]
    }
   ],
   "source": [
    "print(r.status_code)"
   ]
  },
  {
   "cell_type": "code",
   "execution_count": 66,
   "id": "4b8cf6d3-bb1c-4e27-bfa8-1e1ff779a797",
   "metadata": {},
   "outputs": [
    {
     "name": "stdout",
     "output_type": "stream",
     "text": [
      "{\n",
      "  \"args\": {\n",
      "    \"ID\": \"123\", \n",
      "    \"name\": \"Joseph\"\n",
      "  }, \n",
      "  \"headers\": {\n",
      "    \"Accept\": \"*/*\", \n",
      "    \"Accept-Encoding\": \"gzip, deflate, br\", \n",
      "    \"Cache-Control\": \"max-age=259200\", \n",
      "    \"Host\": \"httpbin.org\", \n",
      "    \"User-Agent\": \"python-requests/2.31.0\", \n",
      "    \"X-Amzn-Trace-Id\": \"Root=1-66b8d6ff-3b4933d751d28e5376772e4b\"\n",
      "  }, \n",
      "  \"origin\": \"10.0.0.112, 54.81.222.173\", \n",
      "  \"url\": \"http://httpbin.org/get?name=Joseph&ID=123\"\n",
      "}\n",
      "\n"
     ]
    }
   ],
   "source": [
    "print(r.text)"
   ]
  },
  {
   "cell_type": "code",
   "execution_count": 67,
   "id": "10461ecc-23ec-490d-ac29-1b63154c66d8",
   "metadata": {},
   "outputs": [
    {
     "data": {
      "text/plain": [
       "'application/json'"
      ]
     },
     "execution_count": 67,
     "metadata": {},
     "output_type": "execute_result"
    }
   ],
   "source": [
    "r.headers['Content-Type']"
   ]
  },
  {
   "cell_type": "code",
   "execution_count": 68,
   "id": "03d32711-113f-4201-8928-4e37ba2c87bc",
   "metadata": {},
   "outputs": [
    {
     "data": {
      "text/plain": [
       "{'args': {'ID': '123', 'name': 'Joseph'},\n",
       " 'headers': {'Accept': '*/*',\n",
       "  'Accept-Encoding': 'gzip, deflate, br',\n",
       "  'Cache-Control': 'max-age=259200',\n",
       "  'Host': 'httpbin.org',\n",
       "  'User-Agent': 'python-requests/2.31.0',\n",
       "  'X-Amzn-Trace-Id': 'Root=1-66b8d6ff-3b4933d751d28e5376772e4b'},\n",
       " 'origin': '10.0.0.112, 54.81.222.173',\n",
       " 'url': 'http://httpbin.org/get?name=Joseph&ID=123'}"
      ]
     },
     "execution_count": 68,
     "metadata": {},
     "output_type": "execute_result"
    }
   ],
   "source": [
    "r.json()"
   ]
  },
  {
   "cell_type": "code",
   "execution_count": 69,
   "id": "39163b47-9fec-4d85-b921-40edddc8b62e",
   "metadata": {},
   "outputs": [
    {
     "data": {
      "text/plain": [
       "{'ID': '123', 'name': 'Joseph'}"
      ]
     },
     "execution_count": 69,
     "metadata": {},
     "output_type": "execute_result"
    }
   ],
   "source": [
    "r.json()['args']"
   ]
  },
  {
   "cell_type": "markdown",
   "id": "cc6ebab6-2005-454c-ba98-032120b86186",
   "metadata": {},
   "source": [
    "### запросы на публикацию"
   ]
  },
  {
   "cell_type": "code",
   "execution_count": 74,
   "id": "025abdb8-9468-484c-a780-2baae1ba0690",
   "metadata": {},
   "outputs": [],
   "source": [
    "url_post='http://httpbin.org/post'"
   ]
  },
  {
   "cell_type": "code",
   "execution_count": 75,
   "id": "aa75fb0f-d921-4a05-a97f-e42f079891cc",
   "metadata": {},
   "outputs": [],
   "source": [
    "r_post=requests.post(url_post,data=payload)"
   ]
  },
  {
   "cell_type": "code",
   "execution_count": 76,
   "id": "97faae97-62b1-438f-a0d6-105d28dfe911",
   "metadata": {},
   "outputs": [
    {
     "name": "stdout",
     "output_type": "stream",
     "text": [
      "POST request URL: http://httpbin.org/post\n",
      "GET request URL: http://httpbin.org/get?name=Joseph&ID=123\n"
     ]
    }
   ],
   "source": [
    "print(\"POST request URL:\",r_post.url )\n",
    "print(\"GET request URL:\",r.url)"
   ]
  },
  {
   "cell_type": "code",
   "execution_count": 77,
   "id": "5623ee10-f12e-44dc-a4f6-54e4ecb2fad9",
   "metadata": {},
   "outputs": [
    {
     "name": "stdout",
     "output_type": "stream",
     "text": [
      "POST request body: name=Joseph&ID=123\n",
      "GET request body: None\n"
     ]
    }
   ],
   "source": [
    "print(\"POST request body:\",r_post.request.body)\n",
    "print(\"GET request body:\",r.request.body)"
   ]
  },
  {
   "cell_type": "code",
   "execution_count": 78,
   "id": "bddf7fee-9a44-4c24-bb9e-40eb75002b23",
   "metadata": {},
   "outputs": [
    {
     "data": {
      "text/plain": [
       "{'ID': '123', 'name': 'Joseph'}"
      ]
     },
     "execution_count": 78,
     "metadata": {},
     "output_type": "execute_result"
    }
   ],
   "source": [
    "r_post.json()['form']"
   ]
  },
  {
   "cell_type": "markdown",
   "id": "384d0dea-4350-498a-9185-3d15cbee764c",
   "metadata": {},
   "source": [
    "### пример"
   ]
  },
  {
   "cell_type": "code",
   "execution_count": 5,
   "id": "6a571d2f-164c-4301-a02c-b47e056c119a",
   "metadata": {},
   "outputs": [
    {
     "name": "stdout",
     "output_type": "stream",
     "text": [
      "Defaulting to user installation because normal site-packages is not writeable\n",
      "Looking in links: /usr/share/pip-wheels\n",
      "Requirement already satisfied: randomuser in ./.local/lib/python3.9/site-packages (1.6)\n"
     ]
    }
   ],
   "source": [
    "!pip install randomuser"
   ]
  },
  {
   "cell_type": "code",
   "execution_count": 6,
   "id": "dbc0afc2-a374-49a3-af60-188a5fed1f8b",
   "metadata": {},
   "outputs": [],
   "source": [
    "from randomuser import RandomUser\n",
    "import pandas as pd"
   ]
  },
  {
   "cell_type": "code",
   "execution_count": 7,
   "id": "22f85d83-3b5c-4141-a3b0-4c6f87203fca",
   "metadata": {},
   "outputs": [
    {
     "data": {
      "text/plain": [
       "[<randomuser.RandomUser at 0x7f597cfd7130>,\n",
       " <randomuser.RandomUser at 0x7f597cfc0d30>,\n",
       " <randomuser.RandomUser at 0x7f597cfc0880>,\n",
       " <randomuser.RandomUser at 0x7f59450dd850>,\n",
       " <randomuser.RandomUser at 0x7f59450dd940>,\n",
       " <randomuser.RandomUser at 0x7f59450dd0d0>,\n",
       " <randomuser.RandomUser at 0x7f59450dd610>,\n",
       " <randomuser.RandomUser at 0x7f59450dd8b0>,\n",
       " <randomuser.RandomUser at 0x7f59450dd2e0>,\n",
       " <randomuser.RandomUser at 0x7f59450dd640>]"
      ]
     },
     "execution_count": 7,
     "metadata": {},
     "output_type": "execute_result"
    }
   ],
   "source": [
    "r = RandomUser()\n",
    "some_list = r.generate_users(10)\n",
    "some_list"
   ]
  },
  {
   "cell_type": "code",
   "execution_count": 8,
   "id": "b0ebfcf6-9569-4595-a23d-ca25dc189553",
   "metadata": {},
   "outputs": [],
   "source": [
    "name = r.get_full_name()"
   ]
  },
  {
   "cell_type": "code",
   "execution_count": 10,
   "id": "cec008d5-0026-477d-9a8f-cb2841fb17a1",
   "metadata": {},
   "outputs": [
    {
     "name": "stdout",
     "output_type": "stream",
     "text": [
      "Marie Picard   marie.picard@example.com\n",
      "Hüseyin Richard   huseyin.richard@example.com\n",
      "Mirella Gautier   mirella.gautier@example.com\n",
      "Valerie Gruhn   valerie.gruhn@example.com\n",
      "Riëtte Glas   riette.glas@example.com\n",
      "Ava Chu   ava.chu@example.com\n",
      "Angel Wade   angel.wade@example.com\n",
      "Adem Sadıklar   adem.sadiklar@example.com\n",
      "Océane Garcia   oceane.garcia@example.com\n",
      "Emmie Dufour   emmie.dufour@example.com\n"
     ]
    }
   ],
   "source": [
    "for user in some_list:\n",
    "    print (user.get_full_name(),\" \",user.get_email())"
   ]
  },
  {
   "cell_type": "code",
   "execution_count": 11,
   "id": "46d09db5-cc3e-4364-b977-3372a8f70108",
   "metadata": {},
   "outputs": [
    {
     "name": "stdout",
     "output_type": "stream",
     "text": [
      "https://randomuser.me/api/portraits/women/89.jpg\n",
      "https://randomuser.me/api/portraits/men/4.jpg\n",
      "https://randomuser.me/api/portraits/women/49.jpg\n",
      "https://randomuser.me/api/portraits/women/95.jpg\n",
      "https://randomuser.me/api/portraits/women/35.jpg\n",
      "https://randomuser.me/api/portraits/women/66.jpg\n",
      "https://randomuser.me/api/portraits/men/81.jpg\n",
      "https://randomuser.me/api/portraits/men/9.jpg\n",
      "https://randomuser.me/api/portraits/women/85.jpg\n",
      "https://randomuser.me/api/portraits/women/6.jpg\n"
     ]
    }
   ],
   "source": [
    "for user in some_list:\n",
    "    print (user.get_picture())"
   ]
  },
  {
   "cell_type": "code",
   "execution_count": 12,
   "id": "a30dc24e-e5c9-458c-8165-374f671b2a44",
   "metadata": {},
   "outputs": [],
   "source": [
    "def get_users():\n",
    "    users =[]\n",
    "     \n",
    "    for user in RandomUser.generate_users(10):\n",
    "        users.append({\"Name\":user.get_full_name(),\"Gender\":user.get_gender(),\"City\":user.get_city(),\"State\":user.get_state(),\"Email\":user.get_email(), \"DOB\":user.get_dob(),\"Picture\":user.get_picture()})\n",
    "      \n",
    "    return pd.DataFrame(users)     "
   ]
  },
  {
   "cell_type": "code",
   "execution_count": 13,
   "id": "f6f6a922-54a3-44db-adc2-afd37bf7005d",
   "metadata": {},
   "outputs": [
    {
     "data": {
      "text/html": [
       "<div>\n",
       "<style scoped>\n",
       "    .dataframe tbody tr th:only-of-type {\n",
       "        vertical-align: middle;\n",
       "    }\n",
       "\n",
       "    .dataframe tbody tr th {\n",
       "        vertical-align: top;\n",
       "    }\n",
       "\n",
       "    .dataframe thead th {\n",
       "        text-align: right;\n",
       "    }\n",
       "</style>\n",
       "<table border=\"1\" class=\"dataframe\">\n",
       "  <thead>\n",
       "    <tr style=\"text-align: right;\">\n",
       "      <th></th>\n",
       "      <th>Name</th>\n",
       "      <th>Gender</th>\n",
       "      <th>City</th>\n",
       "      <th>State</th>\n",
       "      <th>Email</th>\n",
       "      <th>DOB</th>\n",
       "      <th>Picture</th>\n",
       "    </tr>\n",
       "  </thead>\n",
       "  <tbody>\n",
       "    <tr>\n",
       "      <th>0</th>\n",
       "      <td>Cora Van Alem</td>\n",
       "      <td>female</td>\n",
       "      <td>Dearsum</td>\n",
       "      <td>Utrecht</td>\n",
       "      <td>cora.vanalem@example.com</td>\n",
       "      <td>1969-09-29T00:47:57.042Z</td>\n",
       "      <td>https://randomuser.me/api/portraits/women/51.jpg</td>\n",
       "    </tr>\n",
       "    <tr>\n",
       "      <th>1</th>\n",
       "      <td>Olivia Poulsen</td>\n",
       "      <td>female</td>\n",
       "      <td>Stokkemarke</td>\n",
       "      <td>Danmark</td>\n",
       "      <td>olivia.poulsen@example.com</td>\n",
       "      <td>1965-07-03T14:00:16.463Z</td>\n",
       "      <td>https://randomuser.me/api/portraits/women/71.jpg</td>\n",
       "    </tr>\n",
       "    <tr>\n",
       "      <th>2</th>\n",
       "      <td>Everett Jackson</td>\n",
       "      <td>male</td>\n",
       "      <td>Spokane</td>\n",
       "      <td>Minnesota</td>\n",
       "      <td>everett.jackson@example.com</td>\n",
       "      <td>1948-02-18T01:00:07.691Z</td>\n",
       "      <td>https://randomuser.me/api/portraits/men/96.jpg</td>\n",
       "    </tr>\n",
       "    <tr>\n",
       "      <th>3</th>\n",
       "      <td>Isla Hall</td>\n",
       "      <td>female</td>\n",
       "      <td>Nelson</td>\n",
       "      <td>Marlborough</td>\n",
       "      <td>isla.hall@example.com</td>\n",
       "      <td>1972-08-14T16:27:19.829Z</td>\n",
       "      <td>https://randomuser.me/api/portraits/women/21.jpg</td>\n",
       "    </tr>\n",
       "    <tr>\n",
       "      <th>4</th>\n",
       "      <td>Jacqueline Robin</td>\n",
       "      <td>female</td>\n",
       "      <td>Rümlang</td>\n",
       "      <td>Appenzell Innerrhoden</td>\n",
       "      <td>jacqueline.robin@example.com</td>\n",
       "      <td>1945-06-18T21:25:38.864Z</td>\n",
       "      <td>https://randomuser.me/api/portraits/women/60.jpg</td>\n",
       "    </tr>\n",
       "    <tr>\n",
       "      <th>5</th>\n",
       "      <td>Dylan Haji</td>\n",
       "      <td>male</td>\n",
       "      <td>Ulsteinvik</td>\n",
       "      <td>Oppland</td>\n",
       "      <td>dylan.haji@example.com</td>\n",
       "      <td>1985-06-30T14:04:59.040Z</td>\n",
       "      <td>https://randomuser.me/api/portraits/men/99.jpg</td>\n",
       "    </tr>\n",
       "    <tr>\n",
       "      <th>6</th>\n",
       "      <td>Hanna Mccoy</td>\n",
       "      <td>female</td>\n",
       "      <td>Balbriggan</td>\n",
       "      <td>Cork</td>\n",
       "      <td>hanna.mccoy@example.com</td>\n",
       "      <td>1968-07-30T03:26:52.765Z</td>\n",
       "      <td>https://randomuser.me/api/portraits/women/34.jpg</td>\n",
       "    </tr>\n",
       "    <tr>\n",
       "      <th>7</th>\n",
       "      <td>Kylie Soto</td>\n",
       "      <td>female</td>\n",
       "      <td>Louisville</td>\n",
       "      <td>Ohio</td>\n",
       "      <td>kylie.soto@example.com</td>\n",
       "      <td>1959-01-07T07:20:45.199Z</td>\n",
       "      <td>https://randomuser.me/api/portraits/women/58.jpg</td>\n",
       "    </tr>\n",
       "    <tr>\n",
       "      <th>8</th>\n",
       "      <td>Youssef De Gunst</td>\n",
       "      <td>male</td>\n",
       "      <td>Koarnjum</td>\n",
       "      <td>Zuid-Holland</td>\n",
       "      <td>youssef.degunst@example.com</td>\n",
       "      <td>1984-04-07T05:51:06.565Z</td>\n",
       "      <td>https://randomuser.me/api/portraits/men/54.jpg</td>\n",
       "    </tr>\n",
       "    <tr>\n",
       "      <th>9</th>\n",
       "      <td>Mina Bjerkan</td>\n",
       "      <td>female</td>\n",
       "      <td>Lørenfallet</td>\n",
       "      <td>Møre og Romsdal</td>\n",
       "      <td>mina.bjerkan@example.com</td>\n",
       "      <td>1990-06-14T14:43:07.151Z</td>\n",
       "      <td>https://randomuser.me/api/portraits/women/54.jpg</td>\n",
       "    </tr>\n",
       "  </tbody>\n",
       "</table>\n",
       "</div>"
      ],
      "text/plain": [
       "               Name  Gender         City                  State  \\\n",
       "0     Cora Van Alem  female      Dearsum                Utrecht   \n",
       "1    Olivia Poulsen  female  Stokkemarke                Danmark   \n",
       "2   Everett Jackson    male      Spokane              Minnesota   \n",
       "3         Isla Hall  female       Nelson            Marlborough   \n",
       "4  Jacqueline Robin  female      Rümlang  Appenzell Innerrhoden   \n",
       "5        Dylan Haji    male   Ulsteinvik                Oppland   \n",
       "6       Hanna Mccoy  female   Balbriggan                   Cork   \n",
       "7        Kylie Soto  female   Louisville                   Ohio   \n",
       "8  Youssef De Gunst    male     Koarnjum           Zuid-Holland   \n",
       "9      Mina Bjerkan  female  Lørenfallet        Møre og Romsdal   \n",
       "\n",
       "                          Email                       DOB  \\\n",
       "0      cora.vanalem@example.com  1969-09-29T00:47:57.042Z   \n",
       "1    olivia.poulsen@example.com  1965-07-03T14:00:16.463Z   \n",
       "2   everett.jackson@example.com  1948-02-18T01:00:07.691Z   \n",
       "3         isla.hall@example.com  1972-08-14T16:27:19.829Z   \n",
       "4  jacqueline.robin@example.com  1945-06-18T21:25:38.864Z   \n",
       "5        dylan.haji@example.com  1985-06-30T14:04:59.040Z   \n",
       "6       hanna.mccoy@example.com  1968-07-30T03:26:52.765Z   \n",
       "7        kylie.soto@example.com  1959-01-07T07:20:45.199Z   \n",
       "8   youssef.degunst@example.com  1984-04-07T05:51:06.565Z   \n",
       "9      mina.bjerkan@example.com  1990-06-14T14:43:07.151Z   \n",
       "\n",
       "                                            Picture  \n",
       "0  https://randomuser.me/api/portraits/women/51.jpg  \n",
       "1  https://randomuser.me/api/portraits/women/71.jpg  \n",
       "2    https://randomuser.me/api/portraits/men/96.jpg  \n",
       "3  https://randomuser.me/api/portraits/women/21.jpg  \n",
       "4  https://randomuser.me/api/portraits/women/60.jpg  \n",
       "5    https://randomuser.me/api/portraits/men/99.jpg  \n",
       "6  https://randomuser.me/api/portraits/women/34.jpg  \n",
       "7  https://randomuser.me/api/portraits/women/58.jpg  \n",
       "8    https://randomuser.me/api/portraits/men/54.jpg  \n",
       "9  https://randomuser.me/api/portraits/women/54.jpg  "
      ]
     },
     "execution_count": 13,
     "metadata": {},
     "output_type": "execute_result"
    }
   ],
   "source": [
    "get_users()"
   ]
  },
  {
   "cell_type": "markdown",
   "id": "03e27637-c5a4-446b-8744-5200ed657ede",
   "metadata": {},
   "source": [
    "### еще пример"
   ]
  },
  {
   "cell_type": "code",
   "execution_count": 20,
   "id": "93c36c14-2626-45e9-9053-fdf47bd91fc3",
   "metadata": {},
   "outputs": [],
   "source": [
    "import requests\n",
    "import json"
   ]
  },
  {
   "cell_type": "code",
   "execution_count": 24,
   "id": "d77758d4-f0b6-4a48-a83f-3004aabf91ce",
   "metadata": {},
   "outputs": [],
   "source": [
    "data = requests.get(\"https://official-joke-api.appspot.com/jokes/ten\")"
   ]
  },
  {
   "cell_type": "code",
   "execution_count": 25,
   "id": "539a77a4-c3e2-4a9c-a5ec-6ca4599859f0",
   "metadata": {},
   "outputs": [],
   "source": [
    "results = json.loads(data.text)"
   ]
  },
  {
   "cell_type": "code",
   "execution_count": 26,
   "id": "3551cd52-bd5c-459e-a994-b7c4c8ceb648",
   "metadata": {},
   "outputs": [
    {
     "data": {
      "text/html": [
       "<div>\n",
       "<style scoped>\n",
       "    .dataframe tbody tr th:only-of-type {\n",
       "        vertical-align: middle;\n",
       "    }\n",
       "\n",
       "    .dataframe tbody tr th {\n",
       "        vertical-align: top;\n",
       "    }\n",
       "\n",
       "    .dataframe thead th {\n",
       "        text-align: right;\n",
       "    }\n",
       "</style>\n",
       "<table border=\"1\" class=\"dataframe\">\n",
       "  <thead>\n",
       "    <tr style=\"text-align: right;\">\n",
       "      <th></th>\n",
       "      <th>type</th>\n",
       "      <th>setup</th>\n",
       "      <th>punchline</th>\n",
       "      <th>id</th>\n",
       "    </tr>\n",
       "  </thead>\n",
       "  <tbody>\n",
       "    <tr>\n",
       "      <th>0</th>\n",
       "      <td>general</td>\n",
       "      <td>What kind of music do welders like?</td>\n",
       "      <td>Heavy metal.</td>\n",
       "      <td>374</td>\n",
       "    </tr>\n",
       "    <tr>\n",
       "      <th>1</th>\n",
       "      <td>programming</td>\n",
       "      <td>What’s the object-oriented way to become wealthy?</td>\n",
       "      <td>Inheritance.</td>\n",
       "      <td>371</td>\n",
       "    </tr>\n",
       "    <tr>\n",
       "      <th>2</th>\n",
       "      <td>general</td>\n",
       "      <td>Never take advice from electrons.</td>\n",
       "      <td>They are always negative.</td>\n",
       "      <td>75</td>\n",
       "    </tr>\n",
       "    <tr>\n",
       "      <th>3</th>\n",
       "      <td>general</td>\n",
       "      <td>What is red and smells like blue paint?</td>\n",
       "      <td>Red paint!</td>\n",
       "      <td>243</td>\n",
       "    </tr>\n",
       "    <tr>\n",
       "      <th>4</th>\n",
       "      <td>general</td>\n",
       "      <td>Why did the belt go to prison?</td>\n",
       "      <td>He held up a pair of pants!</td>\n",
       "      <td>316</td>\n",
       "    </tr>\n",
       "    <tr>\n",
       "      <th>5</th>\n",
       "      <td>general</td>\n",
       "      <td>Why do you never see elephants hiding in trees?</td>\n",
       "      <td>Because they're so good at it.</td>\n",
       "      <td>355</td>\n",
       "    </tr>\n",
       "    <tr>\n",
       "      <th>6</th>\n",
       "      <td>general</td>\n",
       "      <td>Why do bananas have to put on sunscreen before...</td>\n",
       "      <td>Because they might peel!</td>\n",
       "      <td>340</td>\n",
       "    </tr>\n",
       "    <tr>\n",
       "      <th>7</th>\n",
       "      <td>programming</td>\n",
       "      <td>Why did the programmer quit his job?</td>\n",
       "      <td>Because he didn't get arrays.</td>\n",
       "      <td>18</td>\n",
       "    </tr>\n",
       "    <tr>\n",
       "      <th>8</th>\n",
       "      <td>general</td>\n",
       "      <td>Did you hear the joke about the wandering nun?</td>\n",
       "      <td>She was a roman catholic.</td>\n",
       "      <td>98</td>\n",
       "    </tr>\n",
       "    <tr>\n",
       "      <th>9</th>\n",
       "      <td>general</td>\n",
       "      <td>Why did the girl smear peanut butter on the road?</td>\n",
       "      <td>To go with the traffic jam.</td>\n",
       "      <td>324</td>\n",
       "    </tr>\n",
       "  </tbody>\n",
       "</table>\n",
       "</div>"
      ],
      "text/plain": [
       "          type                                              setup  \\\n",
       "0      general                What kind of music do welders like?   \n",
       "1  programming  What’s the object-oriented way to become wealthy?   \n",
       "2      general                  Never take advice from electrons.   \n",
       "3      general            What is red and smells like blue paint?   \n",
       "4      general                     Why did the belt go to prison?   \n",
       "5      general    Why do you never see elephants hiding in trees?   \n",
       "6      general  Why do bananas have to put on sunscreen before...   \n",
       "7  programming               Why did the programmer quit his job?   \n",
       "8      general     Did you hear the joke about the wandering nun?   \n",
       "9      general  Why did the girl smear peanut butter on the road?   \n",
       "\n",
       "                        punchline   id  \n",
       "0                    Heavy metal.  374  \n",
       "1                    Inheritance.  371  \n",
       "2       They are always negative.   75  \n",
       "3                      Red paint!  243  \n",
       "4     He held up a pair of pants!  316  \n",
       "5  Because they're so good at it.  355  \n",
       "6        Because they might peel!  340  \n",
       "7   Because he didn't get arrays.   18  \n",
       "8       She was a roman catholic.   98  \n",
       "9     To go with the traffic jam.  324  "
      ]
     },
     "execution_count": 26,
     "metadata": {},
     "output_type": "execute_result"
    }
   ],
   "source": [
    "pd.DataFrame(results)"
   ]
  },
  {
   "cell_type": "code",
   "execution_count": 27,
   "id": "548ec57b-bb5c-40f8-ae56-0430c4159126",
   "metadata": {},
   "outputs": [],
   "source": [
    "df2 = pd.json_normalize(results)"
   ]
  },
  {
   "cell_type": "code",
   "execution_count": null,
   "id": "66a536e3-e0e5-40da-a080-84d8a9ac7d04",
   "metadata": {},
   "outputs": [],
   "source": []
  }
 ],
 "metadata": {
  "kernelspec": {
   "display_name": "anaconda-2022.05-py39",
   "language": "python",
   "name": "conda-env-anaconda-2022.05-py39-py"
  },
  "language_info": {
   "codemirror_mode": {
    "name": "ipython",
    "version": 3
   },
   "file_extension": ".py",
   "mimetype": "text/x-python",
   "name": "python",
   "nbconvert_exporter": "python",
   "pygments_lexer": "ipython3",
   "version": "3.9.12"
  }
 },
 "nbformat": 4,
 "nbformat_minor": 5
}
